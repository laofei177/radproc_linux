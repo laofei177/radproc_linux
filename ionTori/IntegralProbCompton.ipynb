{
 "cells": [
  {
   "cell_type": "code",
   "execution_count": 1,
   "metadata": {},
   "outputs": [],
   "source": [
    "import numpy as np\n",
    "from scipy import constants as const\n",
    "from scipy import integrate as integ\n",
    "from scipy import optimize as opt\n",
    "import sys\n",
    "import matplotlib.pyplot as plt"
   ]
  },
  {
   "cell_type": "code",
   "execution_count": 2,
   "metadata": {},
   "outputs": [
    {
     "data": {
      "text/plain": [
       "6.6524587158e-25"
      ]
     },
     "execution_count": 2,
     "metadata": {},
     "output_type": "execute_result"
    }
   ],
   "source": [
    "c = const.physical_constants['speed of light in vacuum'][0]*100\n",
    "thomson = const.physical_constants['Thomson cross section'][0]*10000\n",
    "thomson"
   ]
  },
  {
   "cell_type": "code",
   "execution_count": 6,
   "metadata": {},
   "outputs": [],
   "source": [
    "def f(x):\n",
    "    return (1.0-4.0/x-8.0/(x*x))*np.log(1.0+x) + 0.5 + 8.0/x - 0.5/((1.0+x)*(1.0+x))\n",
    "\n",
    "def rate(om,g):\n",
    "    beta = np.sqrt(1.0-1.0/(g*g))\n",
    "    y = g*om\n",
    "    factor = 1.0e3\n",
    "    if beta < 1.0/factor and om < 1.0/factor:\n",
    "        return c*thomson*(1.0-2.0*y)\n",
    "    else:\n",
    "        if om < 1.0/factor / (2.0*y*(1.0+beta)):\n",
    "            return c*thomson*(1.0-2.0*y/3.0*(3.0+beta*beta))\n",
    "        else:\n",
    "            if om > factor*g/4.0 and g > factor:\n",
    "                return 3.0*c*thomson/(8.0*y) * np.log(4.0*y)\n",
    "            else:\n",
    "                if g > 2.0 and g < 30.0 and om > 0.01 and om < 30.0:\n",
    "                    return 3.0*c*thomson/(8.0*y) * ( (1.0-2.0/y - 2.0/(y*y))*np.log(1.0+2.0*y)+0.5 \\\n",
    "                                                   + 4.0/y - 0.5/(1.0+2.0*y)**2)\n",
    "                else:\n",
    "                    cte = 3.0*c*thomson/(32.0*y*y*beta)\n",
    "                    min = 2.0*y*(1.0-beta)\n",
    "                    max = 2.0*y*(1.0+beta)\n",
    "                    return cte * integ.quad(f,min,max,epsabs=1.0e-3,epsrel=1.0e-3)[0]\n",
    "\n",
    "def rateexact(om,g):\n",
    "    beta = np.sqrt(1.0-1.0/(g*g))\n",
    "    y = g*om\n",
    "    cte = 3.0*c*thomson/(32.0*y*y*beta)\n",
    "    min = 2.0*y*(1.0-beta)\n",
    "    max = 2.0*y*(1.0+beta)\n",
    "    return cte * integ.quad(f,min,max,epsabs=1.0e-3,epsrel=1.0e-3)[0]\n",
    "                \n",
    "def dPdz(z,om,omp,g):\n",
    "    \n",
    "    g2 = g*g\n",
    "    beta = np.sqrt(1.0-1.0/g2)\n",
    "    #z = (1.0-zeda)/beta\n",
    "    zeda = 1.0-beta*z\n",
    "    eps = omp/g\n",
    "    rho = om/omp\n",
    "    k = g/om\n",
    "    k2 = k*k\n",
    "    aux = rho*(beta*beta+eps*eps+2.0*beta*eps*z)\n",
    "    y0 = (eps+beta*z)*(rho+eps*rho-zeda)/aux\n",
    "    aux1 = rho*rho*beta*beta\n",
    "    aux2 = 2.0*rho*eps*(1.0-rho)*zeda\n",
    "    aux3 = (rho-zeda)*(rho-zeda)\n",
    "    \n",
    "    sqrt1 = aux1+aux2-aux3\n",
    "    \n",
    "    if sqrt1 < 0:\n",
    "        print('rho = ',rho,'sqrt1 = ', sqrt1, 'zeda =', zeda)\n",
    "        sys.exit()\n",
    "    \n",
    "    delta = beta*np.sqrt(1.0-z*z)*np.sqrt(sqrt1)/aux\n",
    "    a = zeda-(1.0-y0)/k\n",
    "    a2 = a*a\n",
    "    b = delta/k\n",
    "    b2 = b*b\n",
    "    \n",
    "    num = 3.0*thomson*c*om\n",
    "    r = rateexact(omp,g)\n",
    "    a2b2 = a2-b2\n",
    "    if(a2b2 < 0.0):\n",
    "        print(a2b2)\n",
    "        sys.exit()\n",
    "    \n",
    "    minussqrta2b2 = 1.0/np.sqrt(a2b2)\n",
    "    \n",
    "    den = 16.0*g2*g2*omp*omp*r*np.sqrt(beta*beta+eps*eps+2.0*beta*eps*z)*zeda\n",
    "    \n",
    "    factor = 2*y0*k - a*k2 + minussqrta2b2*(1.0+y0*y0-2.0*a*y0*k+a2*k2) + 1.0/(k2*zeda) * \\\n",
    "    (k2 + k2*minussqrta2b2*a*(2*b-a)/(a-b)+np.power(minussqrta2b2,3)*(a*(1.0-y0)*(1.0-y0)+2.0*k* \\\n",
    "    b2*(1-y0)-b*a2*k2))\n",
    "        \n",
    "    result = num*factor/den\n",
    "    \n",
    "    return result\n",
    "    \n",
    "def prob(om,omp,g):\n",
    "    beta = np.sqrt(1.0-1.0/(g*g))\n",
    "    eps = omp/g\n",
    "    #zedaminimum = zedamin(rho,eps,g)\n",
    "    #zedamaximum = zedamax(rho,eps,g)\n",
    "    zminimum = zmin(om,eps,g)\n",
    "    zmaximum = zmax(om,eps,g)\n",
    "    \n",
    "    result = integ.quad(dPdz,zminimum,zmaximum,args=(om,omp,g),epsabs=1.0e-2,epsrel=1.0e-2)\n",
    "\n",
    "    return result[0]\n",
    "\n",
    "def auxprob(logom,omp,g):\n",
    "    return prob(np.exp(logom),omp,g) * np.exp(logom)"
   ]
  },
  {
   "cell_type": "code",
   "execution_count": 4,
   "metadata": {},
   "outputs": [],
   "source": [
    "def zedaminus(rho,eps,g):\n",
    "    beta = np.sqrt(1.0-1.0/(g*g))\n",
    "    d = 1.0+eps-rho*eps\n",
    "    aux = d*d-1.0/(g*g)\n",
    "    return rho*(d-np.sqrt(aux))\n",
    "    \n",
    "def zedaplus(rho,eps,g):\n",
    "    beta = np.sqrt(1.0-1.0/(g*g))\n",
    "    d = 1.0+eps-rho*eps\n",
    "    aux = d*d-1.0/(g*g)\n",
    "    return rho*(d+np.sqrt(aux))\n",
    "\n",
    "def extrinf(rho,eps,g):\n",
    "    beta = np.sqrt(1.0-1.0/(g*g))\n",
    "    return zedaplus(rho,eps,g) - (1.0-beta)\n",
    "\n",
    "def extrsup(rho,eps,g):\n",
    "    return zedaminus(rho,eps,g) - (1.0+beta)\n",
    "\n",
    "def zedamin(rho,eps,g):\n",
    "    beta = np.sqrt(1.0-1.0/(g*g))\n",
    "    return np.maximum(1.0-beta,zedaminus(rho,eps,g))\n",
    "\n",
    "def zedamax(rho,eps,g):\n",
    "    beta = np.sqrt(1.0-1.0/(g*g))\n",
    "    return np.minimum(1.0+beta,zedaplus(rho,eps,g))\n",
    "\n",
    "def zminus(rho,eps,g):\n",
    "    beta = np.sqrt(1.0-1.0/(g*g))\n",
    "    d = 1.0+eps-eps*rho\n",
    "    aux = d*d-1.0/(g*g)\n",
    "    if (aux < 0.0):\n",
    "        aux = 0.0\n",
    "    return (1.0-rho*(d-np.sqrt(aux)))/beta\n",
    "\n",
    "def zplus(rho,eps,g):\n",
    "    beta = np.sqrt(1.0-1.0/(g*g))\n",
    "    d = 1.0+eps-eps*rho\n",
    "    aux = d*d-1.0/(g*g)\n",
    "    if (aux < 0.0):\n",
    "        aux = 0.0\n",
    "    return (1.0-rho*(d+np.sqrt(aux)))/beta    \n",
    "    \n",
    "def zmin(om,eps,g):\n",
    "    omp = g*eps\n",
    "    rho = om/omp\n",
    "    return np.maximum(-1.0,zplus(rho,eps,g))\n",
    "\n",
    "def zmax(om,eps,g):\n",
    "    omp = g*eps\n",
    "    rho = om/omp\n",
    "    return np.minimum(1.0,zminus(rho,eps,g))"
   ]
  },
  {
   "cell_type": "code",
   "execution_count": 5,
   "metadata": {},
   "outputs": [
    {
     "ename": "NameError",
     "evalue": "name 'g' is not defined",
     "output_type": "error",
     "traceback": [
      "\u001b[0;31m---------------------------------------------------------------------------\u001b[0m",
      "\u001b[0;31mNameError\u001b[0m                                 Traceback (most recent call last)",
      "\u001b[0;32m<ipython-input-5-93a364da507d>\u001b[0m in \u001b[0;36m<module>\u001b[0;34m()\u001b[0m\n\u001b[0;32m----> 1\u001b[0;31m \u001b[0mrhomaxAbs\u001b[0m \u001b[0;34m=\u001b[0m \u001b[0;36m1.0\u001b[0m \u001b[0;34m+\u001b[0m \u001b[0;34m(\u001b[0m\u001b[0mg\u001b[0m\u001b[0;34m-\u001b[0m\u001b[0;36m1.0\u001b[0m\u001b[0;34m)\u001b[0m\u001b[0;34m/\u001b[0m\u001b[0momp\u001b[0m\u001b[0;34m\u001b[0m\u001b[0;34m\u001b[0m\u001b[0m\n\u001b[0m\u001b[1;32m      2\u001b[0m \u001b[0mrhomax\u001b[0m \u001b[0;34m=\u001b[0m \u001b[0mommaxAnalitic\u001b[0m\u001b[0;34m/\u001b[0m\u001b[0momp\u001b[0m\u001b[0;34m\u001b[0m\u001b[0;34m\u001b[0m\u001b[0m\n\u001b[1;32m      3\u001b[0m \u001b[0mrhomin\u001b[0m \u001b[0;34m=\u001b[0m \u001b[0momminNum\u001b[0m\u001b[0;34m/\u001b[0m\u001b[0momp\u001b[0m\u001b[0;34m\u001b[0m\u001b[0;34m\u001b[0m\u001b[0m\n\u001b[1;32m      4\u001b[0m \u001b[0;34m\u001b[0m\u001b[0m\n\u001b[1;32m      5\u001b[0m \u001b[0mrhoarray\u001b[0m \u001b[0;34m=\u001b[0m \u001b[0mnp\u001b[0m\u001b[0;34m.\u001b[0m\u001b[0marange\u001b[0m\u001b[0;34m(\u001b[0m\u001b[0;36m0.0001\u001b[0m\u001b[0;34m,\u001b[0m\u001b[0mrhomaxAbs\u001b[0m\u001b[0;34m,\u001b[0m\u001b[0mrhomaxAbs\u001b[0m\u001b[0;34m/\u001b[0m\u001b[0;36m100000.0\u001b[0m\u001b[0;34m)\u001b[0m\u001b[0;34m\u001b[0m\u001b[0;34m\u001b[0m\u001b[0m\n",
      "\u001b[0;31mNameError\u001b[0m: name 'g' is not defined"
     ]
    }
   ],
   "source": [
    "rhomaxAbs = 1.0 + (g-1.0)/omp\n",
    "rhomax = ommaxAnalitic/omp\n",
    "rhomin = omminNum/omp\n",
    "\n",
    "rhoarray = np.arange(0.0001,rhomaxAbs,rhomaxAbs/100000.0)\n",
    "plt.plot(rhoarray,zedaminus(rhoarray,eps,g),color='b')\n",
    "plt.plot(rhoarray,zedaplus(rhoarray,eps,g),color='b')\n",
    "plt.axhline(y=1+beta,color='r',linestyle=':')\n",
    "plt.axhline(y=1-beta,color='r',linestyle=':')\n",
    "plt.axvline(x=rhomax,color='r',linestyle=':')\n",
    "plt.axvline(x=rhomin,color='r',linestyle=':')\n",
    "\n",
    "rhonew = np.arange(rhomin,rhomax,rhomax/1000)\n",
    "plt.fill_between(rhonew,zedamin(rhonew,eps,g),zedamax(rhonew,eps,g))"
   ]
  },
  {
   "cell_type": "code",
   "execution_count": 8,
   "metadata": {},
   "outputs": [
    {
     "name": "stdout",
     "output_type": "stream",
     "text": [
      "Caso (a)\n"
     ]
    },
    {
     "name": "stderr",
     "output_type": "stream",
     "text": [
      "/usr/lib/python3/dist-packages/scipy/integrate/quadpack.py:364: IntegrationWarning: The maximum number of subdivisions (50) has been achieved.\n",
      "  If increasing the limit yields no improvement it is advised to analyze \n",
      "  the integrand in order to determine the difficulties.  If the position of a \n",
      "  local difficulty can be determined (singularity, discontinuity) one will \n",
      "  probably gain from splitting up the interval and calling the integrator \n",
      "  on the subranges.  Perhaps a special-purpose integrator should be used.\n",
      "  warnings.warn(msg, IntegrationWarning)\n",
      "/usr/lib/python3/dist-packages/scipy/integrate/quadpack.py:364: IntegrationWarning: The integral is probably divergent, or slowly convergent.\n",
      "  warnings.warn(msg, IntegrationWarning)\n"
     ]
    },
    {
     "name": "stdout",
     "output_type": "stream",
     "text": [
      "4.11833347111e-13 2.42816665288e-12 1e-12 1.6126274599138615e-13\n",
      "Caso (a)\n",
      "3.23190325265e-12 1.90552799048e-11 7.84759970351e-12 2.9929659570647375e-13\n",
      "Caso (a)\n",
      "2.53626830055e-11 1.49538208907e-10 6.15848211066e-11 2.176648037126403e-08\n",
      "Caso (a)\n"
     ]
    },
    {
     "ename": "KeyboardInterrupt",
     "evalue": "",
     "output_type": "error",
     "traceback": [
      "\u001b[0;31m---------------------------------------------------------------------------\u001b[0m",
      "\u001b[0;31mKeyboardInterrupt\u001b[0m                         Traceback (most recent call last)",
      "\u001b[0;32m<ipython-input-8-68c622a3a4b7>\u001b[0m in \u001b[0;36m<module>\u001b[0;34m()\u001b[0m\n\u001b[1;32m     28\u001b[0m     \u001b[0mmax\u001b[0m \u001b[0;34m=\u001b[0m \u001b[0mnp\u001b[0m\u001b[0;34m.\u001b[0m\u001b[0mlog\u001b[0m\u001b[0;34m(\u001b[0m\u001b[0mommax\u001b[0m\u001b[0;34m)\u001b[0m\u001b[0;34m\u001b[0m\u001b[0;34m\u001b[0m\u001b[0m\n\u001b[1;32m     29\u001b[0m \u001b[0;34m\u001b[0m\u001b[0m\n\u001b[0;32m---> 30\u001b[0;31m     \u001b[0mresult\u001b[0m \u001b[0;34m=\u001b[0m \u001b[0minteg\u001b[0m\u001b[0;34m.\u001b[0m\u001b[0mquad\u001b[0m\u001b[0;34m(\u001b[0m\u001b[0mauxprob\u001b[0m\u001b[0;34m,\u001b[0m\u001b[0mmin\u001b[0m\u001b[0;34m,\u001b[0m\u001b[0mmax\u001b[0m\u001b[0;34m,\u001b[0m\u001b[0margs\u001b[0m\u001b[0;34m=\u001b[0m\u001b[0;34m(\u001b[0m\u001b[0momp\u001b[0m\u001b[0;34m,\u001b[0m\u001b[0mg\u001b[0m\u001b[0;34m)\u001b[0m\u001b[0;34m,\u001b[0m\u001b[0mepsabs\u001b[0m\u001b[0;34m=\u001b[0m\u001b[0;36m1.0e-2\u001b[0m\u001b[0;34m,\u001b[0m\u001b[0mepsrel\u001b[0m\u001b[0;34m=\u001b[0m\u001b[0;36m1.0e-2\u001b[0m\u001b[0;34m)\u001b[0m\u001b[0;34m\u001b[0m\u001b[0;34m\u001b[0m\u001b[0m\n\u001b[0m\u001b[1;32m     31\u001b[0m     \u001b[0mprint\u001b[0m\u001b[0;34m(\u001b[0m\u001b[0momminNum\u001b[0m\u001b[0;34m,\u001b[0m\u001b[0mommax\u001b[0m\u001b[0;34m,\u001b[0m\u001b[0momp\u001b[0m\u001b[0;34m,\u001b[0m\u001b[0mresult\u001b[0m\u001b[0;34m[\u001b[0m\u001b[0;36m0\u001b[0m\u001b[0;34m]\u001b[0m\u001b[0;34m)\u001b[0m\u001b[0;34m\u001b[0m\u001b[0;34m\u001b[0m\u001b[0m\n",
      "\u001b[0;32m/usr/lib/python3/dist-packages/scipy/integrate/quadpack.py\u001b[0m in \u001b[0;36mquad\u001b[0;34m(func, a, b, args, full_output, epsabs, epsrel, limit, points, weight, wvar, wopts, maxp1, limlst)\u001b[0m\n\u001b[1;32m    321\u001b[0m     \u001b[0;32mif\u001b[0m \u001b[0;34m(\u001b[0m\u001b[0mweight\u001b[0m \u001b[0;32mis\u001b[0m \u001b[0;32mNone\u001b[0m\u001b[0;34m)\u001b[0m\u001b[0;34m:\u001b[0m\u001b[0;34m\u001b[0m\u001b[0;34m\u001b[0m\u001b[0m\n\u001b[1;32m    322\u001b[0m         retval = _quad(func, a, b, args, full_output, epsabs, epsrel, limit,\n\u001b[0;32m--> 323\u001b[0;31m                        points)\n\u001b[0m\u001b[1;32m    324\u001b[0m     \u001b[0;32melse\u001b[0m\u001b[0;34m:\u001b[0m\u001b[0;34m\u001b[0m\u001b[0;34m\u001b[0m\u001b[0m\n\u001b[1;32m    325\u001b[0m         retval = _quad_weight(func, a, b, args, full_output, epsabs, epsrel,\n",
      "\u001b[0;32m/usr/lib/python3/dist-packages/scipy/integrate/quadpack.py\u001b[0m in \u001b[0;36m_quad\u001b[0;34m(func, a, b, args, full_output, epsabs, epsrel, limit, points)\u001b[0m\n\u001b[1;32m    386\u001b[0m     \u001b[0;32mif\u001b[0m \u001b[0mpoints\u001b[0m \u001b[0;32mis\u001b[0m \u001b[0;32mNone\u001b[0m\u001b[0;34m:\u001b[0m\u001b[0;34m\u001b[0m\u001b[0;34m\u001b[0m\u001b[0m\n\u001b[1;32m    387\u001b[0m         \u001b[0;32mif\u001b[0m \u001b[0minfbounds\u001b[0m \u001b[0;34m==\u001b[0m \u001b[0;36m0\u001b[0m\u001b[0;34m:\u001b[0m\u001b[0;34m\u001b[0m\u001b[0;34m\u001b[0m\u001b[0m\n\u001b[0;32m--> 388\u001b[0;31m             \u001b[0;32mreturn\u001b[0m \u001b[0m_quadpack\u001b[0m\u001b[0;34m.\u001b[0m\u001b[0m_qagse\u001b[0m\u001b[0;34m(\u001b[0m\u001b[0mfunc\u001b[0m\u001b[0;34m,\u001b[0m\u001b[0ma\u001b[0m\u001b[0;34m,\u001b[0m\u001b[0mb\u001b[0m\u001b[0;34m,\u001b[0m\u001b[0margs\u001b[0m\u001b[0;34m,\u001b[0m\u001b[0mfull_output\u001b[0m\u001b[0;34m,\u001b[0m\u001b[0mepsabs\u001b[0m\u001b[0;34m,\u001b[0m\u001b[0mepsrel\u001b[0m\u001b[0;34m,\u001b[0m\u001b[0mlimit\u001b[0m\u001b[0;34m)\u001b[0m\u001b[0;34m\u001b[0m\u001b[0;34m\u001b[0m\u001b[0m\n\u001b[0m\u001b[1;32m    389\u001b[0m         \u001b[0;32melse\u001b[0m\u001b[0;34m:\u001b[0m\u001b[0;34m\u001b[0m\u001b[0;34m\u001b[0m\u001b[0m\n\u001b[1;32m    390\u001b[0m             \u001b[0;32mreturn\u001b[0m \u001b[0m_quadpack\u001b[0m\u001b[0;34m.\u001b[0m\u001b[0m_qagie\u001b[0m\u001b[0;34m(\u001b[0m\u001b[0mfunc\u001b[0m\u001b[0;34m,\u001b[0m\u001b[0mbound\u001b[0m\u001b[0;34m,\u001b[0m\u001b[0minfbounds\u001b[0m\u001b[0;34m,\u001b[0m\u001b[0margs\u001b[0m\u001b[0;34m,\u001b[0m\u001b[0mfull_output\u001b[0m\u001b[0;34m,\u001b[0m\u001b[0mepsabs\u001b[0m\u001b[0;34m,\u001b[0m\u001b[0mepsrel\u001b[0m\u001b[0;34m,\u001b[0m\u001b[0mlimit\u001b[0m\u001b[0;34m)\u001b[0m\u001b[0;34m\u001b[0m\u001b[0;34m\u001b[0m\u001b[0m\n",
      "\u001b[0;32m<ipython-input-6-f6680b6cf5dd>\u001b[0m in \u001b[0;36mauxprob\u001b[0;34m(logom, omp, g)\u001b[0m\n\u001b[1;32m     89\u001b[0m \u001b[0;34m\u001b[0m\u001b[0m\n\u001b[1;32m     90\u001b[0m \u001b[0;32mdef\u001b[0m \u001b[0mauxprob\u001b[0m\u001b[0;34m(\u001b[0m\u001b[0mlogom\u001b[0m\u001b[0;34m,\u001b[0m\u001b[0momp\u001b[0m\u001b[0;34m,\u001b[0m\u001b[0mg\u001b[0m\u001b[0;34m)\u001b[0m\u001b[0;34m:\u001b[0m\u001b[0;34m\u001b[0m\u001b[0;34m\u001b[0m\u001b[0m\n\u001b[0;32m---> 91\u001b[0;31m     \u001b[0;32mreturn\u001b[0m \u001b[0mprob\u001b[0m\u001b[0;34m(\u001b[0m\u001b[0mnp\u001b[0m\u001b[0;34m.\u001b[0m\u001b[0mexp\u001b[0m\u001b[0;34m(\u001b[0m\u001b[0mlogom\u001b[0m\u001b[0;34m)\u001b[0m\u001b[0;34m,\u001b[0m\u001b[0momp\u001b[0m\u001b[0;34m,\u001b[0m\u001b[0mg\u001b[0m\u001b[0;34m)\u001b[0m \u001b[0;34m*\u001b[0m \u001b[0mnp\u001b[0m\u001b[0;34m.\u001b[0m\u001b[0mexp\u001b[0m\u001b[0;34m(\u001b[0m\u001b[0mlogom\u001b[0m\u001b[0;34m)\u001b[0m\u001b[0;34m\u001b[0m\u001b[0;34m\u001b[0m\u001b[0m\n\u001b[0m",
      "\u001b[0;32m<ipython-input-6-f6680b6cf5dd>\u001b[0m in \u001b[0;36mprob\u001b[0;34m(om, omp, g)\u001b[0m\n\u001b[1;32m     84\u001b[0m     \u001b[0mzmaximum\u001b[0m \u001b[0;34m=\u001b[0m \u001b[0mzmax\u001b[0m\u001b[0;34m(\u001b[0m\u001b[0mom\u001b[0m\u001b[0;34m,\u001b[0m\u001b[0meps\u001b[0m\u001b[0;34m,\u001b[0m\u001b[0mg\u001b[0m\u001b[0;34m)\u001b[0m\u001b[0;34m\u001b[0m\u001b[0;34m\u001b[0m\u001b[0m\n\u001b[1;32m     85\u001b[0m \u001b[0;34m\u001b[0m\u001b[0m\n\u001b[0;32m---> 86\u001b[0;31m     \u001b[0mresult\u001b[0m \u001b[0;34m=\u001b[0m \u001b[0minteg\u001b[0m\u001b[0;34m.\u001b[0m\u001b[0mquad\u001b[0m\u001b[0;34m(\u001b[0m\u001b[0mdPdz\u001b[0m\u001b[0;34m,\u001b[0m\u001b[0mzminimum\u001b[0m\u001b[0;34m,\u001b[0m\u001b[0mzmaximum\u001b[0m\u001b[0;34m,\u001b[0m\u001b[0margs\u001b[0m\u001b[0;34m=\u001b[0m\u001b[0;34m(\u001b[0m\u001b[0mom\u001b[0m\u001b[0;34m,\u001b[0m\u001b[0momp\u001b[0m\u001b[0;34m,\u001b[0m\u001b[0mg\u001b[0m\u001b[0;34m)\u001b[0m\u001b[0;34m,\u001b[0m\u001b[0mepsabs\u001b[0m\u001b[0;34m=\u001b[0m\u001b[0;36m1.0e-2\u001b[0m\u001b[0;34m,\u001b[0m\u001b[0mepsrel\u001b[0m\u001b[0;34m=\u001b[0m\u001b[0;36m1.0e-2\u001b[0m\u001b[0;34m)\u001b[0m\u001b[0;34m\u001b[0m\u001b[0;34m\u001b[0m\u001b[0m\n\u001b[0m\u001b[1;32m     87\u001b[0m \u001b[0;34m\u001b[0m\u001b[0m\n\u001b[1;32m     88\u001b[0m     \u001b[0;32mreturn\u001b[0m \u001b[0mresult\u001b[0m\u001b[0;34m[\u001b[0m\u001b[0;36m0\u001b[0m\u001b[0;34m]\u001b[0m\u001b[0;34m\u001b[0m\u001b[0;34m\u001b[0m\u001b[0m\n",
      "\u001b[0;32m/usr/lib/python3/dist-packages/scipy/integrate/quadpack.py\u001b[0m in \u001b[0;36mquad\u001b[0;34m(func, a, b, args, full_output, epsabs, epsrel, limit, points, weight, wvar, wopts, maxp1, limlst)\u001b[0m\n\u001b[1;32m    321\u001b[0m     \u001b[0;32mif\u001b[0m \u001b[0;34m(\u001b[0m\u001b[0mweight\u001b[0m \u001b[0;32mis\u001b[0m \u001b[0;32mNone\u001b[0m\u001b[0;34m)\u001b[0m\u001b[0;34m:\u001b[0m\u001b[0;34m\u001b[0m\u001b[0;34m\u001b[0m\u001b[0m\n\u001b[1;32m    322\u001b[0m         retval = _quad(func, a, b, args, full_output, epsabs, epsrel, limit,\n\u001b[0;32m--> 323\u001b[0;31m                        points)\n\u001b[0m\u001b[1;32m    324\u001b[0m     \u001b[0;32melse\u001b[0m\u001b[0;34m:\u001b[0m\u001b[0;34m\u001b[0m\u001b[0;34m\u001b[0m\u001b[0m\n\u001b[1;32m    325\u001b[0m         retval = _quad_weight(func, a, b, args, full_output, epsabs, epsrel,\n",
      "\u001b[0;32m/usr/lib/python3/dist-packages/scipy/integrate/quadpack.py\u001b[0m in \u001b[0;36m_quad\u001b[0;34m(func, a, b, args, full_output, epsabs, epsrel, limit, points)\u001b[0m\n\u001b[1;32m    386\u001b[0m     \u001b[0;32mif\u001b[0m \u001b[0mpoints\u001b[0m \u001b[0;32mis\u001b[0m \u001b[0;32mNone\u001b[0m\u001b[0;34m:\u001b[0m\u001b[0;34m\u001b[0m\u001b[0;34m\u001b[0m\u001b[0m\n\u001b[1;32m    387\u001b[0m         \u001b[0;32mif\u001b[0m \u001b[0minfbounds\u001b[0m \u001b[0;34m==\u001b[0m \u001b[0;36m0\u001b[0m\u001b[0;34m:\u001b[0m\u001b[0;34m\u001b[0m\u001b[0;34m\u001b[0m\u001b[0m\n\u001b[0;32m--> 388\u001b[0;31m             \u001b[0;32mreturn\u001b[0m \u001b[0m_quadpack\u001b[0m\u001b[0;34m.\u001b[0m\u001b[0m_qagse\u001b[0m\u001b[0;34m(\u001b[0m\u001b[0mfunc\u001b[0m\u001b[0;34m,\u001b[0m\u001b[0ma\u001b[0m\u001b[0;34m,\u001b[0m\u001b[0mb\u001b[0m\u001b[0;34m,\u001b[0m\u001b[0margs\u001b[0m\u001b[0;34m,\u001b[0m\u001b[0mfull_output\u001b[0m\u001b[0;34m,\u001b[0m\u001b[0mepsabs\u001b[0m\u001b[0;34m,\u001b[0m\u001b[0mepsrel\u001b[0m\u001b[0;34m,\u001b[0m\u001b[0mlimit\u001b[0m\u001b[0;34m)\u001b[0m\u001b[0;34m\u001b[0m\u001b[0;34m\u001b[0m\u001b[0m\n\u001b[0m\u001b[1;32m    389\u001b[0m         \u001b[0;32melse\u001b[0m\u001b[0;34m:\u001b[0m\u001b[0;34m\u001b[0m\u001b[0;34m\u001b[0m\u001b[0m\n\u001b[1;32m    390\u001b[0m             \u001b[0;32mreturn\u001b[0m \u001b[0m_quadpack\u001b[0m\u001b[0;34m.\u001b[0m\u001b[0m_qagie\u001b[0m\u001b[0;34m(\u001b[0m\u001b[0mfunc\u001b[0m\u001b[0;34m,\u001b[0m\u001b[0mbound\u001b[0m\u001b[0;34m,\u001b[0m\u001b[0minfbounds\u001b[0m\u001b[0;34m,\u001b[0m\u001b[0margs\u001b[0m\u001b[0;34m,\u001b[0m\u001b[0mfull_output\u001b[0m\u001b[0;34m,\u001b[0m\u001b[0mepsabs\u001b[0m\u001b[0;34m,\u001b[0m\u001b[0mepsrel\u001b[0m\u001b[0;34m,\u001b[0m\u001b[0mlimit\u001b[0m\u001b[0;34m)\u001b[0m\u001b[0;34m\u001b[0m\u001b[0;34m\u001b[0m\u001b[0m\n",
      "\u001b[0;32m<ipython-input-6-f6680b6cf5dd>\u001b[0m in \u001b[0;36mdPdz\u001b[0;34m(z, om, omp, g)\u001b[0m\n\u001b[1;32m     70\u001b[0m     \u001b[0mden\u001b[0m \u001b[0;34m=\u001b[0m \u001b[0;36m16.0\u001b[0m\u001b[0;34m*\u001b[0m\u001b[0mg2\u001b[0m\u001b[0;34m*\u001b[0m\u001b[0mg2\u001b[0m\u001b[0;34m*\u001b[0m\u001b[0momp\u001b[0m\u001b[0;34m*\u001b[0m\u001b[0momp\u001b[0m\u001b[0;34m*\u001b[0m\u001b[0mr\u001b[0m\u001b[0;34m*\u001b[0m\u001b[0mnp\u001b[0m\u001b[0;34m.\u001b[0m\u001b[0msqrt\u001b[0m\u001b[0;34m(\u001b[0m\u001b[0mbeta\u001b[0m\u001b[0;34m*\u001b[0m\u001b[0mbeta\u001b[0m\u001b[0;34m+\u001b[0m\u001b[0meps\u001b[0m\u001b[0;34m*\u001b[0m\u001b[0meps\u001b[0m\u001b[0;34m+\u001b[0m\u001b[0;36m2.0\u001b[0m\u001b[0;34m*\u001b[0m\u001b[0mbeta\u001b[0m\u001b[0;34m*\u001b[0m\u001b[0meps\u001b[0m\u001b[0;34m*\u001b[0m\u001b[0mz\u001b[0m\u001b[0;34m)\u001b[0m\u001b[0;34m*\u001b[0m\u001b[0mzeda\u001b[0m\u001b[0;34m\u001b[0m\u001b[0;34m\u001b[0m\u001b[0m\n\u001b[1;32m     71\u001b[0m \u001b[0;34m\u001b[0m\u001b[0m\n\u001b[0;32m---> 72\u001b[0;31m     \u001b[0mfactor\u001b[0m \u001b[0;34m=\u001b[0m \u001b[0;36m2\u001b[0m\u001b[0;34m*\u001b[0m\u001b[0my0\u001b[0m\u001b[0;34m*\u001b[0m\u001b[0mk\u001b[0m \u001b[0;34m-\u001b[0m \u001b[0ma\u001b[0m\u001b[0;34m*\u001b[0m\u001b[0mk2\u001b[0m \u001b[0;34m+\u001b[0m \u001b[0mminussqrta2b2\u001b[0m\u001b[0;34m*\u001b[0m\u001b[0;34m(\u001b[0m\u001b[0;36m1.0\u001b[0m\u001b[0;34m+\u001b[0m\u001b[0my0\u001b[0m\u001b[0;34m*\u001b[0m\u001b[0my0\u001b[0m\u001b[0;34m-\u001b[0m\u001b[0;36m2.0\u001b[0m\u001b[0;34m*\u001b[0m\u001b[0ma\u001b[0m\u001b[0;34m*\u001b[0m\u001b[0my0\u001b[0m\u001b[0;34m*\u001b[0m\u001b[0mk\u001b[0m\u001b[0;34m+\u001b[0m\u001b[0ma2\u001b[0m\u001b[0;34m*\u001b[0m\u001b[0mk2\u001b[0m\u001b[0;34m)\u001b[0m \u001b[0;34m+\u001b[0m \u001b[0;36m1.0\u001b[0m\u001b[0;34m/\u001b[0m\u001b[0;34m(\u001b[0m\u001b[0mk2\u001b[0m\u001b[0;34m*\u001b[0m\u001b[0mzeda\u001b[0m\u001b[0;34m)\u001b[0m \u001b[0;34m*\u001b[0m     \u001b[0;34m(\u001b[0m\u001b[0mk2\u001b[0m \u001b[0;34m+\u001b[0m \u001b[0mk2\u001b[0m\u001b[0;34m*\u001b[0m\u001b[0mminussqrta2b2\u001b[0m\u001b[0;34m*\u001b[0m\u001b[0ma\u001b[0m\u001b[0;34m*\u001b[0m\u001b[0;34m(\u001b[0m\u001b[0;36m2\u001b[0m\u001b[0;34m*\u001b[0m\u001b[0mb\u001b[0m\u001b[0;34m-\u001b[0m\u001b[0ma\u001b[0m\u001b[0;34m)\u001b[0m\u001b[0;34m/\u001b[0m\u001b[0;34m(\u001b[0m\u001b[0ma\u001b[0m\u001b[0;34m-\u001b[0m\u001b[0mb\u001b[0m\u001b[0;34m)\u001b[0m\u001b[0;34m+\u001b[0m\u001b[0mnp\u001b[0m\u001b[0;34m.\u001b[0m\u001b[0mpower\u001b[0m\u001b[0;34m(\u001b[0m\u001b[0mminussqrta2b2\u001b[0m\u001b[0;34m,\u001b[0m\u001b[0;36m3\u001b[0m\u001b[0;34m)\u001b[0m\u001b[0;34m*\u001b[0m\u001b[0;34m(\u001b[0m\u001b[0ma\u001b[0m\u001b[0;34m*\u001b[0m\u001b[0;34m(\u001b[0m\u001b[0;36m1.0\u001b[0m\u001b[0;34m-\u001b[0m\u001b[0my0\u001b[0m\u001b[0;34m)\u001b[0m\u001b[0;34m*\u001b[0m\u001b[0;34m(\u001b[0m\u001b[0;36m1.0\u001b[0m\u001b[0;34m-\u001b[0m\u001b[0my0\u001b[0m\u001b[0;34m)\u001b[0m\u001b[0;34m+\u001b[0m\u001b[0;36m2.0\u001b[0m\u001b[0;34m*\u001b[0m\u001b[0mk\u001b[0m\u001b[0;34m*\u001b[0m     \u001b[0mb2\u001b[0m\u001b[0;34m*\u001b[0m\u001b[0;34m(\u001b[0m\u001b[0;36m1\u001b[0m\u001b[0;34m-\u001b[0m\u001b[0my0\u001b[0m\u001b[0;34m)\u001b[0m\u001b[0;34m-\u001b[0m\u001b[0mb\u001b[0m\u001b[0;34m*\u001b[0m\u001b[0ma2\u001b[0m\u001b[0;34m*\u001b[0m\u001b[0mk2\u001b[0m\u001b[0;34m)\u001b[0m\u001b[0;34m)\u001b[0m\u001b[0;34m\u001b[0m\u001b[0;34m\u001b[0m\u001b[0m\n\u001b[0m\u001b[1;32m     73\u001b[0m \u001b[0;34m\u001b[0m\u001b[0m\n\u001b[1;32m     74\u001b[0m     \u001b[0mresult\u001b[0m \u001b[0;34m=\u001b[0m \u001b[0mnum\u001b[0m\u001b[0;34m*\u001b[0m\u001b[0mfactor\u001b[0m\u001b[0;34m/\u001b[0m\u001b[0mden\u001b[0m\u001b[0;34m\u001b[0m\u001b[0;34m\u001b[0m\u001b[0m\n",
      "\u001b[0;31mKeyboardInterrupt\u001b[0m: "
     ]
    }
   ],
   "source": [
    "g = 1.1\n",
    "beta = np.sqrt(1.0-1.0/(g*g))\n",
    "zero = 1.0e-5\n",
    "\n",
    "\n",
    "for omp in np.logspace(-12,5,20):\n",
    "    \n",
    "    eps = omp/g\n",
    "    \n",
    "    omminAnalitic = omp*(1.0-beta)/(1.0+2.0*beta*omp/g)\n",
    "    omminNum = omp*opt.bisect(extrinf,0.0,1.0,args=(eps,g))\n",
    "\n",
    "    ommaxAbs = omp + (g - 1.0)\n",
    "    ommaxAnalitic = omp*(1+beta)/(1-beta+2.0*omp/g)\n",
    "    #ommaxNum = omp*opt.bisect(extrsup,1.0,ommaxAbs/omp,args=(eps,g))\n",
    "\n",
    "    if eps < beta/(1.0+g*(1.0+beta)):\n",
    "        ommax = ommaxAnalitic\n",
    "        print('Caso (a)')\n",
    "    elif beta/(1.0+g*(1.0+beta)) < eps and eps < beta:\n",
    "        ommax = ommaxAbs\n",
    "        print('Caso (b)')\n",
    "    elif beta < eps:\n",
    "        ommax = ommaxAbs\n",
    "        print('Caso (c)')\n",
    "\n",
    "    min = np.log(omminNum)\n",
    "    max = np.log(ommax)\n",
    "    \n",
    "    result = integ.quad(auxprob,min,max,args=(omp,g),epsabs=1.0e-2,epsrel=1.0e-2)\n",
    "    print(omminNum,ommax,omp,result[0])"
   ]
  },
  {
   "cell_type": "code",
   "execution_count": 25,
   "metadata": {},
   "outputs": [
    {
     "ename": "ValueError",
     "evalue": "f(a) and f(b) must have different signs",
     "output_type": "error",
     "traceback": [
      "\u001b[0;31m---------------------------------------------------------------------------\u001b[0m",
      "\u001b[0;31mValueError\u001b[0m                                Traceback (most recent call last)",
      "\u001b[0;32m<ipython-input-25-e256bd2c4e51>\u001b[0m in \u001b[0;36m<module>\u001b[0;34m()\u001b[0m\n\u001b[1;32m      7\u001b[0m \u001b[0;34m\u001b[0m\u001b[0m\n\u001b[1;32m      8\u001b[0m \u001b[0momminNum\u001b[0m \u001b[0;34m=\u001b[0m \u001b[0momp\u001b[0m\u001b[0;34m*\u001b[0m\u001b[0mopt\u001b[0m\u001b[0;34m.\u001b[0m\u001b[0mbisect\u001b[0m\u001b[0;34m(\u001b[0m\u001b[0mextrinf\u001b[0m\u001b[0;34m,\u001b[0m\u001b[0;36m0.0\u001b[0m\u001b[0;34m,\u001b[0m\u001b[0;36m1.0\u001b[0m\u001b[0;34m,\u001b[0m\u001b[0margs\u001b[0m\u001b[0;34m=\u001b[0m\u001b[0;34m(\u001b[0m\u001b[0meps\u001b[0m\u001b[0;34m,\u001b[0m\u001b[0mg\u001b[0m\u001b[0;34m)\u001b[0m\u001b[0;34m)\u001b[0m\u001b[0;34m\u001b[0m\u001b[0;34m\u001b[0m\u001b[0m\n\u001b[0;32m----> 9\u001b[0;31m \u001b[0mommaxNum\u001b[0m \u001b[0;34m=\u001b[0m \u001b[0momp\u001b[0m\u001b[0;34m*\u001b[0m\u001b[0mopt\u001b[0m\u001b[0;34m.\u001b[0m\u001b[0mbisect\u001b[0m\u001b[0;34m(\u001b[0m\u001b[0mextrsup\u001b[0m\u001b[0;34m,\u001b[0m\u001b[0;36m1.0\u001b[0m\u001b[0;34m,\u001b[0m\u001b[0mommaxAbs\u001b[0m\u001b[0;34m/\u001b[0m\u001b[0momp\u001b[0m\u001b[0;34m,\u001b[0m\u001b[0margs\u001b[0m\u001b[0;34m=\u001b[0m\u001b[0;34m(\u001b[0m\u001b[0meps\u001b[0m\u001b[0;34m,\u001b[0m\u001b[0mg\u001b[0m\u001b[0;34m)\u001b[0m\u001b[0;34m)\u001b[0m\u001b[0;34m\u001b[0m\u001b[0;34m\u001b[0m\u001b[0m\n\u001b[0m\u001b[1;32m     10\u001b[0m \u001b[0;34m\u001b[0m\u001b[0m\n\u001b[1;32m     11\u001b[0m \u001b[0mommaxAbs\u001b[0m \u001b[0;34m=\u001b[0m \u001b[0momp\u001b[0m \u001b[0;34m+\u001b[0m \u001b[0;34m(\u001b[0m\u001b[0mg\u001b[0m \u001b[0;34m-\u001b[0m \u001b[0;36m1.0\u001b[0m\u001b[0;34m)\u001b[0m\u001b[0;34m\u001b[0m\u001b[0;34m\u001b[0m\u001b[0m\n",
      "\u001b[0;32m/usr/lib/python3/dist-packages/scipy/optimize/zeros.py\u001b[0m in \u001b[0;36mbisect\u001b[0;34m(f, a, b, args, xtol, rtol, maxiter, full_output, disp)\u001b[0m\n\u001b[1;32m    247\u001b[0m     \u001b[0;32mif\u001b[0m \u001b[0mrtol\u001b[0m \u001b[0;34m<\u001b[0m \u001b[0m_rtol\u001b[0m\u001b[0;34m:\u001b[0m\u001b[0;34m\u001b[0m\u001b[0;34m\u001b[0m\u001b[0m\n\u001b[1;32m    248\u001b[0m         \u001b[0;32mraise\u001b[0m \u001b[0mValueError\u001b[0m\u001b[0;34m(\u001b[0m\u001b[0;34m\"rtol too small (%g < %g)\"\u001b[0m \u001b[0;34m%\u001b[0m \u001b[0;34m(\u001b[0m\u001b[0mrtol\u001b[0m\u001b[0;34m,\u001b[0m \u001b[0m_rtol\u001b[0m\u001b[0;34m)\u001b[0m\u001b[0;34m)\u001b[0m\u001b[0;34m\u001b[0m\u001b[0;34m\u001b[0m\u001b[0m\n\u001b[0;32m--> 249\u001b[0;31m     \u001b[0mr\u001b[0m \u001b[0;34m=\u001b[0m \u001b[0m_zeros\u001b[0m\u001b[0;34m.\u001b[0m\u001b[0m_bisect\u001b[0m\u001b[0;34m(\u001b[0m\u001b[0mf\u001b[0m\u001b[0;34m,\u001b[0m\u001b[0ma\u001b[0m\u001b[0;34m,\u001b[0m\u001b[0mb\u001b[0m\u001b[0;34m,\u001b[0m\u001b[0mxtol\u001b[0m\u001b[0;34m,\u001b[0m\u001b[0mrtol\u001b[0m\u001b[0;34m,\u001b[0m\u001b[0mmaxiter\u001b[0m\u001b[0;34m,\u001b[0m\u001b[0margs\u001b[0m\u001b[0;34m,\u001b[0m\u001b[0mfull_output\u001b[0m\u001b[0;34m,\u001b[0m\u001b[0mdisp\u001b[0m\u001b[0;34m)\u001b[0m\u001b[0;34m\u001b[0m\u001b[0;34m\u001b[0m\u001b[0m\n\u001b[0m\u001b[1;32m    250\u001b[0m     \u001b[0;32mreturn\u001b[0m \u001b[0mresults_c\u001b[0m\u001b[0;34m(\u001b[0m\u001b[0mfull_output\u001b[0m\u001b[0;34m,\u001b[0m \u001b[0mr\u001b[0m\u001b[0;34m)\u001b[0m\u001b[0;34m\u001b[0m\u001b[0;34m\u001b[0m\u001b[0m\n\u001b[1;32m    251\u001b[0m \u001b[0;34m\u001b[0m\u001b[0m\n",
      "\u001b[0;31mValueError\u001b[0m: f(a) and f(b) must have different signs"
     ]
    }
   ],
   "source": [
    "g = 10.0\n",
    "omp = 0.0199526\n",
    "\n",
    "probtotexact = 1.49684e+06\n",
    "\n",
    "eps = omp/g\n",
    "\n",
    "omminNum = omp*opt.bisect(extrinf,0.0,1.0,args=(eps,g))\n",
    "ommaxNum = omp*opt.bisect(extrsup,1.0,ommaxAbs/omp,args=(eps,g))\n",
    "\n",
    "ommaxAbs = omp + (g - 1.0)\n",
    "ommaxAnalitic = omp*(1+beta)/(1-beta+2.0*omp/g)\n",
    "\n",
    "if eps < beta/(1.0+g*(1.0+beta)):\n",
    "    ommax = ommaxNum\n",
    "    print('Caso (a)')\n",
    "elif beta/(1.0+g*(1.0+beta)) < eps and eps < beta:\n",
    "    ommax = ommaxAbs\n",
    "    print('Caso (b)')\n",
    "elif beta < eps:\n",
    "    ommax = ommaxAbs\n",
    "    print('Caso (c)')\n",
    "      \n",
    "zero = 1.0e-5\n",
    "ommax = ommax*(1.0-zero)\n",
    "ommin = omminNum*(1.0+zero)\n",
    "\n",
    "result = integ.quad(prob,ommin,ommax,args=(omp,g),epsrel=1.0e-10)\n",
    "result[0]"
   ]
  },
  {
   "cell_type": "code",
   "execution_count": null,
   "metadata": {},
   "outputs": [],
   "source": []
  },
  {
   "cell_type": "code",
   "execution_count": null,
   "metadata": {},
   "outputs": [],
   "source": []
  }
 ],
 "metadata": {
  "kernelspec": {
   "display_name": "Python 3",
   "language": "python",
   "name": "python3"
  },
  "language_info": {
   "codemirror_mode": {
    "name": "ipython",
    "version": 3
   },
   "file_extension": ".py",
   "mimetype": "text/x-python",
   "name": "python",
   "nbconvert_exporter": "python",
   "pygments_lexer": "ipython3",
   "version": "3.6.7"
  }
 },
 "nbformat": 4,
 "nbformat_minor": 2
}
