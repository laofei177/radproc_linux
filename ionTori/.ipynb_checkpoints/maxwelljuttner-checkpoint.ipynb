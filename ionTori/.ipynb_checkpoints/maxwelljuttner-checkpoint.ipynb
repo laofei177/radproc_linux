{
 "cells": [
  {
   "cell_type": "code",
   "execution_count": 1,
   "metadata": {
    "collapsed": true
   },
   "outputs": [],
   "source": [
    "import numpy as np\n",
    "from scipy.special import kn\n",
    "import matplotlib.pyplot as plt\n",
    "%matplotlib inline\n",
    "\n",
    "from matplotlib import rc\n",
    "rc('font', family='serif')\n",
    "rc('text', usetex=True)"
   ]
  },
  {
   "cell_type": "code",
   "execution_count": 2,
   "metadata": {
    "collapsed": true
   },
   "outputs": [],
   "source": [
    "def mj(gamma, temp):\n",
    "    beta = np.sqrt(1.0-1.0/np.square(gamma))\n",
    "    norm_temp = boltzmann * temp / mc2\n",
    "    return np.square(gamma) * beta / (norm_temp * kn(2, 1.0/norm_temp) ) * np.exp(-gamma/norm_temp)"
   ]
  },
  {
   "cell_type": "code",
   "execution_count": 3,
   "metadata": {
    "collapsed": true
   },
   "outputs": [],
   "source": [
    "def mb(gamma, temp):\n",
    "    v2 = np.square(c)*(1.0-1.0/np.square(gamma))\n",
    "    beta = np.sqrt(1.0-1.0/np.square(gamma))\n",
    "    jac = c / beta / np.power(gamma, 3)\n",
    "    return jac * np.power(me / (2.0*np.pi*boltzmann*temp), 1.5) * 4.0*np.pi * v2 * np.exp(- 0.5*me*v2 / (boltzmann*temp))"
   ]
  },
  {
   "cell_type": "code",
   "execution_count": 4,
   "metadata": {
    "collapsed": true
   },
   "outputs": [],
   "source": [
    "boltzmann = 1.38e-16\n",
    "mc2 = 8.187e-7\n",
    "c = 2.998e10\n",
    "me = 9.109e-28"
   ]
  },
  {
   "cell_type": "code",
   "execution_count": 5,
   "metadata": {
    "collapsed": true
   },
   "outputs": [],
   "source": [
    "temp1 = 1.e9\n",
    "temp2 = 1.e10\n",
    "temp3 = 1.e11\n",
    "temp4 = 1.e12"
   ]
  },
  {
   "cell_type": "code",
   "execution_count": 17,
   "metadata": {},
   "outputs": [
    {
     "name": "stderr",
     "output_type": "stream",
     "text": [
      "/home/eduardog/miniconda2/lib/python2.7/site-packages/ipykernel_launcher.py:13: RuntimeWarning: divide by zero encountered in log10\n",
      "  del sys.path[0]\n",
      "/home/eduardog/miniconda2/lib/python2.7/site-packages/ipykernel_launcher.py:4: RuntimeWarning: divide by zero encountered in divide\n",
      "  after removing the cwd from sys.path.\n",
      "/home/eduardog/miniconda2/lib/python2.7/site-packages/ipykernel_launcher.py:5: RuntimeWarning: invalid value encountered in multiply\n",
      "  \"\"\"\n"
     ]
    },
    {
     "data": {
      "text/plain": [
       "<matplotlib.legend.Legend at 0x7fcd82cee790>"
      ]
     },
     "execution_count": 17,
     "metadata": {},
     "output_type": "execute_result"
    },
    {
     "data": {
      "image/png": "[encoded data removed]",
      "text/plain": [
       "<matplotlib.figure.Figure at 0x7fcd82e09d90>"
      ]
     },
     "metadata": {},
     "output_type": "display_data"
    }
   ],
   "source": [
    "fig = plt.figure()\n",
    "ax = fig.add_subplot(111)\n",
    "\n",
    "ax.set_xlabel(r'${\\rm Log} ( \\gamma )$')\n",
    "ax.set_ylabel(r'${\\rm Log} [ f( \\gamma )]$')\n",
    "\n",
    "ax.set_xlim([0.0,0.1])\n",
    "ax.set_ylim([-10.0,4.0])\n",
    "\n",
    "gamma = np.linspace(1.0,1.0e1,100001)\n",
    "gamma = np.logspace(0.0,1.1,10001)\n",
    "temp1 = 1.e7\n",
    "ax.plot(np.log10(gamma), np.log10(mj(gamma, temp1)), label=r'$T=10^9$')\n",
    "ax.plot(np.log10(gamma), np.log10(mb(gamma, temp1)), label=r'$T=10^9$')\n",
    "#ax.plot(np.log10(gamma), np.log10(mj(gamma, temp2)), label=r'$T=10^{10}$')\n",
    "#ax.plot(np.log10(gamma), np.log10(mj(gamma, temp3)), label=r'$T=10^{11}$')\n",
    "#ax.plot(np.log10(gamma), np.log10(mj(gamma, temp4)), label=r'$T=10^{12}$')\n",
    "\n",
    "ax.legend(loc='upper right')"
   ]
  },
  {
   "cell_type": "code",
   "execution_count": 11,
   "metadata": {
    "collapsed": true
   },
   "outputs": [],
   "source": [
    "from scipy.integrate import *"
   ]
  },
  {
   "cell_type": "code",
   "execution_count": 29,
   "metadata": {},
   "outputs": [
    {
     "data": {
      "text/plain": [
       "(1.0000000000000047, 7.362443987801726e-12)"
      ]
     },
     "execution_count": 29,
     "metadata": {},
     "output_type": "execute_result"
    }
   ],
   "source": [
    "tempe = 1.0\n",
    "maj = lambda x: np.sqrt(1.0-1.0/np.square(x)) * np.square(x) / (tempe * kn(2,1.0/tempe)) * np.exp(-x)\n",
    "quad(maj,1.0,np.inf)"
   ]
  },
  {
   "cell_type": "code",
   "execution_count": null,
   "metadata": {
    "collapsed": true
   },
   "outputs": [],
   "source": []
  },
  {
   "cell_type": "code",
   "execution_count": null,
   "metadata": {
    "collapsed": true
   },
   "outputs": [],
   "source": []
  }
 ],
 "metadata": {
  "kernelspec": {
   "display_name": "Python 2",
   "language": "python",
   "name": "python2"
  },
  "language_info": {
   "codemirror_mode": {
    "name": "ipython",
    "version": 2
   },
   "file_extension": ".py",
   "mimetype": "text/x-python",
   "name": "python",
   "nbconvert_exporter": "python",
   "pygments_lexer": "ipython2",
   "version": "2.7.13"
  }
 },
 "nbformat": 4,
 "nbformat_minor": 2
}
