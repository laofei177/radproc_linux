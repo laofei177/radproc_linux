{
 "cells": [
  {
   "cell_type": "code",
   "execution_count": 1,
   "metadata": {},
   "outputs": [],
   "source": [
    "import numpy as np"
   ]
  },
  {
   "cell_type": "code",
   "execution_count": 2,
   "metadata": {},
   "outputs": [],
   "source": [
    "import matplotlib.pyplot as plt"
   ]
  },
  {
   "cell_type": "code",
   "execution_count": 3,
   "metadata": {},
   "outputs": [],
   "source": [
    "x=np.linspace(-np.pi,np.pi,101)"
   ]
  },
  {
   "cell_type": "code",
   "execution_count": 4,
   "metadata": {},
   "outputs": [
    {
     "data": {
      "text/plain": [
       "array([ -3.14159265e+00,  -3.07876080e+00,  -3.01592895e+00,\n",
       "        -2.95309709e+00,  -2.89026524e+00,  -2.82743339e+00,\n",
       "        -2.76460154e+00,  -2.70176968e+00,  -2.63893783e+00,\n",
       "        -2.57610598e+00,  -2.51327412e+00,  -2.45044227e+00,\n",
       "        -2.38761042e+00,  -2.32477856e+00,  -2.26194671e+00,\n",
       "        -2.19911486e+00,  -2.13628300e+00,  -2.07345115e+00,\n",
       "        -2.01061930e+00,  -1.94778745e+00,  -1.88495559e+00,\n",
       "        -1.82212374e+00,  -1.75929189e+00,  -1.69646003e+00,\n",
       "        -1.63362818e+00,  -1.57079633e+00,  -1.50796447e+00,\n",
       "        -1.44513262e+00,  -1.38230077e+00,  -1.31946891e+00,\n",
       "        -1.25663706e+00,  -1.19380521e+00,  -1.13097336e+00,\n",
       "        -1.06814150e+00,  -1.00530965e+00,  -9.42477796e-01,\n",
       "        -8.79645943e-01,  -8.16814090e-01,  -7.53982237e-01,\n",
       "        -6.91150384e-01,  -6.28318531e-01,  -5.65486678e-01,\n",
       "        -5.02654825e-01,  -4.39822972e-01,  -3.76991118e-01,\n",
       "        -3.14159265e-01,  -2.51327412e-01,  -1.88495559e-01,\n",
       "        -1.25663706e-01,  -6.28318531e-02,   4.44089210e-16,\n",
       "         6.28318531e-02,   1.25663706e-01,   1.88495559e-01,\n",
       "         2.51327412e-01,   3.14159265e-01,   3.76991118e-01,\n",
       "         4.39822972e-01,   5.02654825e-01,   5.65486678e-01,\n",
       "         6.28318531e-01,   6.91150384e-01,   7.53982237e-01,\n",
       "         8.16814090e-01,   8.79645943e-01,   9.42477796e-01,\n",
       "         1.00530965e+00,   1.06814150e+00,   1.13097336e+00,\n",
       "         1.19380521e+00,   1.25663706e+00,   1.31946891e+00,\n",
       "         1.38230077e+00,   1.44513262e+00,   1.50796447e+00,\n",
       "         1.57079633e+00,   1.63362818e+00,   1.69646003e+00,\n",
       "         1.75929189e+00,   1.82212374e+00,   1.88495559e+00,\n",
       "         1.94778745e+00,   2.01061930e+00,   2.07345115e+00,\n",
       "         2.13628300e+00,   2.19911486e+00,   2.26194671e+00,\n",
       "         2.32477856e+00,   2.38761042e+00,   2.45044227e+00,\n",
       "         2.51327412e+00,   2.57610598e+00,   2.63893783e+00,\n",
       "         2.70176968e+00,   2.76460154e+00,   2.82743339e+00,\n",
       "         2.89026524e+00,   2.95309709e+00,   3.01592895e+00,\n",
       "         3.07876080e+00,   3.14159265e+00])"
      ]
     },
     "execution_count": 4,
     "metadata": {},
     "output_type": "execute_result"
    }
   ],
   "source": [
    "x"
   ]
  },
  {
   "cell_type": "code",
   "execution_count": 5,
   "metadata": {},
   "outputs": [],
   "source": [
    "y=np.sin(x)+np.sin(3*x)/3.0"
   ]
  },
  {
   "cell_type": "code",
   "execution_count": 6,
   "metadata": {},
   "outputs": [
    {
     "data": {
      "text/plain": [
       "array([ -2.44929360e-16,  -1.25250958e-01,  -2.48041418e-01,\n",
       "        -3.65990246e-01,  -4.76872256e-01,  -5.78689326e-01,\n",
       "        -6.69733570e-01,  -7.48640345e-01,  -8.14429250e-01,\n",
       "        -8.66531695e-01,  -9.04804091e-01,  -9.29526216e-01,\n",
       "        -9.41384854e-01,  -9.41443291e-01,  -9.31097801e-01,\n",
       "        -9.12022659e-01,  -8.86105670e-01,  -8.55376507e-01,\n",
       "        -8.21930423e-01,  -7.87850055e-01,  -7.55128099e-01,\n",
       "        -7.25593619e-01,  -7.00844609e-01,  -6.82189206e-01,\n",
       "        -6.70597645e-01,  -6.66666667e-01,  -6.70597645e-01,\n",
       "        -6.82189206e-01,  -7.00844609e-01,  -7.25593619e-01,\n",
       "        -7.55128099e-01,  -7.87850055e-01,  -8.21930423e-01,\n",
       "        -8.55376507e-01,  -8.86105670e-01,  -9.12022659e-01,\n",
       "        -9.31097801e-01,  -9.41443291e-01,  -9.41384854e-01,\n",
       "        -9.29526216e-01,  -9.04804091e-01,  -8.66531695e-01,\n",
       "        -8.14429250e-01,  -7.48640345e-01,  -6.69733570e-01,\n",
       "        -5.78689326e-01,  -4.76872256e-01,  -3.65990246e-01,\n",
       "        -2.48041418e-01,  -1.25250958e-01,   8.88178420e-16,\n",
       "         1.25250958e-01,   2.48041418e-01,   3.65990246e-01,\n",
       "         4.76872256e-01,   5.78689326e-01,   6.69733570e-01,\n",
       "         7.48640345e-01,   8.14429250e-01,   8.66531695e-01,\n",
       "         9.04804091e-01,   9.29526216e-01,   9.41384854e-01,\n",
       "         9.41443291e-01,   9.31097801e-01,   9.12022659e-01,\n",
       "         8.86105670e-01,   8.55376507e-01,   8.21930423e-01,\n",
       "         7.87850055e-01,   7.55128099e-01,   7.25593619e-01,\n",
       "         7.00844609e-01,   6.82189206e-01,   6.70597645e-01,\n",
       "         6.66666667e-01,   6.70597645e-01,   6.82189206e-01,\n",
       "         7.00844609e-01,   7.25593619e-01,   7.55128099e-01,\n",
       "         7.87850055e-01,   8.21930423e-01,   8.55376507e-01,\n",
       "         8.86105670e-01,   9.12022659e-01,   9.31097801e-01,\n",
       "         9.41443291e-01,   9.41384854e-01,   9.29526216e-01,\n",
       "         9.04804091e-01,   8.66531695e-01,   8.14429250e-01,\n",
       "         7.48640345e-01,   6.69733570e-01,   5.78689326e-01,\n",
       "         4.76872256e-01,   3.65990246e-01,   2.48041418e-01,\n",
       "         1.25250958e-01,   2.44929360e-16])"
      ]
     },
     "execution_count": 6,
     "metadata": {},
     "output_type": "execute_result"
    }
   ],
   "source": [
    "y"
   ]
  },
  {
   "cell_type": "code",
   "execution_count": 7,
   "metadata": {},
   "outputs": [
    {
     "data": {
      "text/plain": [
       "[<matplotlib.lines.Line2D at 0x7f56e4573d30>]"
      ]
     },
     "execution_count": 7,
     "metadata": {},
     "output_type": "execute_result"
    },
    {
     "data": {
      "image/png": "[encoded data removed]",
      "text/plain": [
       "<matplotlib.figure.Figure at 0x7f56e458c550>"
      ]
     },
     "metadata": {},
     "output_type": "display_data"
    }
   ],
   "source": [
    "plt.plot(N,var)"
   ]
  },
  {
   "cell_type": "code",
   "execution_count": null,
   "metadata": {},
   "outputs": [],
   "source": []
  }
 ],
 "metadata": {
  "kernelspec": {
   "display_name": "Python 3",
   "language": "python",
   "name": "python3"
  },
  "language_info": {
   "codemirror_mode": {
    "name": "ipython",
    "version": 3
   },
   "file_extension": ".py",
   "mimetype": "text/x-python",
   "name": "python",
   "nbconvert_exporter": "python",
   "pygments_lexer": "ipython3",
   "version": "3.6.6"
  }
 },
 "nbformat": 4,
 "nbformat_minor": 2
}
